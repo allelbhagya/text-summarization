{
 "cells": [
  {
   "cell_type": "code",
   "execution_count": 54,
   "metadata": {},
   "outputs": [],
   "source": [
    "text = \"\"\" Machine learning (ML) refers to a system's ability to acquire, and integrate knowledge through large-scale observations, and to improve, and extend itself by learning new knowledge rather than by being programmed with that knowledge. ML techniques are used in intelligent tutors to acquire new knowledge about students, identify their skills, and learn new teaching approaches. They improve teaching by repeatedly observing how students react and generalize rules about the domain or student. The role of ML techniques in a tutor is to independently observe and evaluate the tutor's actions. ML tutors customize their teaching by reasoning about large groups of students, and tutor-student interactions, generated through several components. A performance element is responsible for making improvements in the tutor, using perceptions of tutor/student interactions, and knowledge about the student's reaction to decide how to modify the tutor to perform better in the future. ML techniques are used to identify student learning strategies, such as, which activities do students select most frequently and in which order. Analysis of student behavior leads to greater student learning outcome by providing tutors with useful diagnostic information for generating feedback.\"\"\""
   ]
  },
  {
   "cell_type": "code",
   "execution_count": 55,
   "metadata": {},
   "outputs": [],
   "source": [
    "import spacy\n",
    "from spacy.lang.en.stop_words import STOP_WORDS\n",
    "from string import punctuation"
   ]
  },
  {
   "cell_type": "code",
   "execution_count": 56,
   "metadata": {},
   "outputs": [],
   "source": [
    "stopwords = list(STOP_WORDS)"
   ]
  },
  {
   "cell_type": "code",
   "execution_count": 57,
   "metadata": {},
   "outputs": [],
   "source": [
    "nlp = spacy.load('en_core_web_md')"
   ]
  },
  {
   "cell_type": "code",
   "execution_count": 58,
   "metadata": {},
   "outputs": [],
   "source": [
    "doc = nlp(text)"
   ]
  },
  {
   "cell_type": "code",
   "execution_count": 59,
   "metadata": {},
   "outputs": [
    {
     "name": "stdout",
     "output_type": "stream",
     "text": [
      "[' ', 'Machine', 'learning', '(', 'ML', ')', 'refers', 'to', 'a', 'system', \"'s\", 'ability', 'to', 'acquire', ',', 'and', 'integrate', 'knowledge', 'through', 'large', '-', 'scale', 'observations', ',', 'and', 'to', 'improve', ',', 'and', 'extend', 'itself', 'by', 'learning', 'new', 'knowledge', 'rather', 'than', 'by', 'being', 'programmed', 'with', 'that', 'knowledge', '.', 'ML', 'techniques', 'are', 'used', 'in', 'intelligent', 'tutors', 'to', 'acquire', 'new', 'knowledge', 'about', 'students', ',', 'identify', 'their', 'skills', ',', 'and', 'learn', 'new', 'teaching', 'approaches', '.', 'They', 'improve', 'teaching', 'by', 'repeatedly', 'observing', 'how', 'students', 'react', 'and', 'generalize', 'rules', 'about', 'the', 'domain', 'or', 'student', '.', 'The', 'role', 'of', 'ML', 'techniques', 'in', 'a', 'tutor', 'is', 'to', 'independently', 'observe', 'and', 'evaluate', 'the', 'tutor', \"'s\", 'actions', '.', 'ML', 'tutors', 'customize', 'their', 'teaching', 'by', 'reasoning', 'about', 'large', 'groups', 'of', 'students', ',', 'and', 'tutor', '-', 'student', 'interactions', ',', 'generated', 'through', 'several', 'components', '.', 'A', 'performance', 'element', 'is', 'responsible', 'for', 'making', 'improvements', 'in', 'the', 'tutor', ',', 'using', 'perceptions', 'of', 'tutor', '/', 'student', 'interactions', ',', 'and', 'knowledge', 'about', 'the', 'student', \"'s\", 'reaction', 'to', 'decide', 'how', 'to', 'modify', 'the', 'tutor', 'to', 'perform', 'better', 'in', 'the', 'future', '.', 'ML', 'techniques', 'are', 'used', 'to', 'identify', 'student', 'learning', 'strategies', ',', 'such', 'as', ',', 'which', 'activities', 'do', 'students', 'select', 'most', 'frequently', 'and', 'in', 'which', 'order', '.', 'Analysis', 'of', 'student', 'behavior', 'leads', 'to', 'greater', 'student', 'learning', 'outcome', 'by', 'providing', 'tutors', 'with', 'useful', 'diagnostic', 'information', 'for', 'generating', 'feedback', '.']\n"
     ]
    }
   ],
   "source": [
    "tokens = [token.text for token in doc]\n",
    "print(tokens)"
   ]
  },
  {
   "cell_type": "code",
   "execution_count": 60,
   "metadata": {},
   "outputs": [],
   "source": [
    "punctuation = punctuation + '\\n'"
   ]
  },
  {
   "cell_type": "code",
   "execution_count": 61,
   "metadata": {},
   "outputs": [],
   "source": [
    "word_frequencies = {}\n",
    "for word in doc:\n",
    "    if word.text.lower() not in stopwords:\n",
    "        if word.text.lower() not in punctuation:\n",
    "            if word.text not in word_frequencies.keys():\n",
    "                word_frequencies[word.text]=1\n",
    "            else:\n",
    "                word_frequencies[word.text]+=1"
   ]
  },
  {
   "cell_type": "code",
   "execution_count": 62,
   "metadata": {},
   "outputs": [
    {
     "data": {
      "text/plain": [
       "{' ': 1,\n",
       " 'Machine': 1,\n",
       " 'learning': 4,\n",
       " 'ML': 5,\n",
       " 'refers': 1,\n",
       " 'system': 1,\n",
       " 'ability': 1,\n",
       " 'acquire': 2,\n",
       " 'integrate': 1,\n",
       " 'knowledge': 5,\n",
       " 'large': 2,\n",
       " 'scale': 1,\n",
       " 'observations': 1,\n",
       " 'improve': 2,\n",
       " 'extend': 1,\n",
       " 'new': 3,\n",
       " 'programmed': 1,\n",
       " 'techniques': 3,\n",
       " 'intelligent': 1,\n",
       " 'tutors': 3,\n",
       " 'students': 4,\n",
       " 'identify': 2,\n",
       " 'skills': 1,\n",
       " 'learn': 1,\n",
       " 'teaching': 3,\n",
       " 'approaches': 1,\n",
       " 'repeatedly': 1,\n",
       " 'observing': 1,\n",
       " 'react': 1,\n",
       " 'generalize': 1,\n",
       " 'rules': 1,\n",
       " 'domain': 1,\n",
       " 'student': 7,\n",
       " 'role': 1,\n",
       " 'tutor': 6,\n",
       " 'independently': 1,\n",
       " 'observe': 1,\n",
       " 'evaluate': 1,\n",
       " 'actions': 1,\n",
       " 'customize': 1,\n",
       " 'reasoning': 1,\n",
       " 'groups': 1,\n",
       " 'interactions': 2,\n",
       " 'generated': 1,\n",
       " 'components': 1,\n",
       " 'performance': 1,\n",
       " 'element': 1,\n",
       " 'responsible': 1,\n",
       " 'making': 1,\n",
       " 'improvements': 1,\n",
       " 'perceptions': 1,\n",
       " 'reaction': 1,\n",
       " 'decide': 1,\n",
       " 'modify': 1,\n",
       " 'perform': 1,\n",
       " 'better': 1,\n",
       " 'future': 1,\n",
       " 'strategies': 1,\n",
       " 'activities': 1,\n",
       " 'select': 1,\n",
       " 'frequently': 1,\n",
       " 'order': 1,\n",
       " 'Analysis': 1,\n",
       " 'behavior': 1,\n",
       " 'leads': 1,\n",
       " 'greater': 1,\n",
       " 'outcome': 1,\n",
       " 'providing': 1,\n",
       " 'useful': 1,\n",
       " 'diagnostic': 1,\n",
       " 'information': 1,\n",
       " 'generating': 1,\n",
       " 'feedback': 1}"
      ]
     },
     "execution_count": 62,
     "metadata": {},
     "output_type": "execute_result"
    }
   ],
   "source": [
    "word_frequencies"
   ]
  },
  {
   "cell_type": "code",
   "execution_count": 63,
   "metadata": {},
   "outputs": [
    {
     "data": {
      "text/plain": [
       "7"
      ]
     },
     "execution_count": 63,
     "metadata": {},
     "output_type": "execute_result"
    }
   ],
   "source": [
    "max_frequency = max(word_frequencies.values())\n",
    "max_frequency"
   ]
  },
  {
   "cell_type": "code",
   "execution_count": 64,
   "metadata": {},
   "outputs": [
    {
     "data": {
      "text/plain": [
       "{' ': 0.14285714285714285,\n",
       " 'Machine': 0.14285714285714285,\n",
       " 'learning': 0.5714285714285714,\n",
       " 'ML': 0.7142857142857143,\n",
       " 'refers': 0.14285714285714285,\n",
       " 'system': 0.14285714285714285,\n",
       " 'ability': 0.14285714285714285,\n",
       " 'acquire': 0.2857142857142857,\n",
       " 'integrate': 0.14285714285714285,\n",
       " 'knowledge': 0.7142857142857143,\n",
       " 'large': 0.2857142857142857,\n",
       " 'scale': 0.14285714285714285,\n",
       " 'observations': 0.14285714285714285,\n",
       " 'improve': 0.2857142857142857,\n",
       " 'extend': 0.14285714285714285,\n",
       " 'new': 0.42857142857142855,\n",
       " 'programmed': 0.14285714285714285,\n",
       " 'techniques': 0.42857142857142855,\n",
       " 'intelligent': 0.14285714285714285,\n",
       " 'tutors': 0.42857142857142855,\n",
       " 'students': 0.5714285714285714,\n",
       " 'identify': 0.2857142857142857,\n",
       " 'skills': 0.14285714285714285,\n",
       " 'learn': 0.14285714285714285,\n",
       " 'teaching': 0.42857142857142855,\n",
       " 'approaches': 0.14285714285714285,\n",
       " 'repeatedly': 0.14285714285714285,\n",
       " 'observing': 0.14285714285714285,\n",
       " 'react': 0.14285714285714285,\n",
       " 'generalize': 0.14285714285714285,\n",
       " 'rules': 0.14285714285714285,\n",
       " 'domain': 0.14285714285714285,\n",
       " 'student': 1.0,\n",
       " 'role': 0.14285714285714285,\n",
       " 'tutor': 0.8571428571428571,\n",
       " 'independently': 0.14285714285714285,\n",
       " 'observe': 0.14285714285714285,\n",
       " 'evaluate': 0.14285714285714285,\n",
       " 'actions': 0.14285714285714285,\n",
       " 'customize': 0.14285714285714285,\n",
       " 'reasoning': 0.14285714285714285,\n",
       " 'groups': 0.14285714285714285,\n",
       " 'interactions': 0.2857142857142857,\n",
       " 'generated': 0.14285714285714285,\n",
       " 'components': 0.14285714285714285,\n",
       " 'performance': 0.14285714285714285,\n",
       " 'element': 0.14285714285714285,\n",
       " 'responsible': 0.14285714285714285,\n",
       " 'making': 0.14285714285714285,\n",
       " 'improvements': 0.14285714285714285,\n",
       " 'perceptions': 0.14285714285714285,\n",
       " 'reaction': 0.14285714285714285,\n",
       " 'decide': 0.14285714285714285,\n",
       " 'modify': 0.14285714285714285,\n",
       " 'perform': 0.14285714285714285,\n",
       " 'better': 0.14285714285714285,\n",
       " 'future': 0.14285714285714285,\n",
       " 'strategies': 0.14285714285714285,\n",
       " 'activities': 0.14285714285714285,\n",
       " 'select': 0.14285714285714285,\n",
       " 'frequently': 0.14285714285714285,\n",
       " 'order': 0.14285714285714285,\n",
       " 'Analysis': 0.14285714285714285,\n",
       " 'behavior': 0.14285714285714285,\n",
       " 'leads': 0.14285714285714285,\n",
       " 'greater': 0.14285714285714285,\n",
       " 'outcome': 0.14285714285714285,\n",
       " 'providing': 0.14285714285714285,\n",
       " 'useful': 0.14285714285714285,\n",
       " 'diagnostic': 0.14285714285714285,\n",
       " 'information': 0.14285714285714285,\n",
       " 'generating': 0.14285714285714285,\n",
       " 'feedback': 0.14285714285714285}"
      ]
     },
     "execution_count": 64,
     "metadata": {},
     "output_type": "execute_result"
    }
   ],
   "source": [
    "for word in word_frequencies.keys():\n",
    "    word_frequencies[word] = word_frequencies[word]/max_frequency\n",
    "word_frequencies"
   ]
  },
  {
   "cell_type": "code",
   "execution_count": 65,
   "metadata": {},
   "outputs": [
    {
     "name": "stdout",
     "output_type": "stream",
     "text": [
      "[ Machine learning (ML) refers to a system's ability to acquire, and integrate knowledge through large-scale observations, and to improve, and extend itself by learning new knowledge rather than by being programmed with that knowledge., ML techniques are used in intelligent tutors to acquire new knowledge about students, identify their skills, and learn new teaching approaches., They improve teaching by repeatedly observing how students react and generalize rules about the domain or student., The role of ML techniques in a tutor is to independently observe and evaluate the tutor's actions., ML tutors customize their teaching by reasoning about large groups of students, and tutor-student interactions, generated through several components., A performance element is responsible for making improvements in the tutor, using perceptions of tutor/student interactions, and knowledge about the student's reaction to decide how to modify the tutor to perform better in the future., ML techniques are used to identify student learning strategies, such as, which activities do students select most frequently and in which order., Analysis of student behavior leads to greater student learning outcome by providing tutors with useful diagnostic information for generating feedback.]\n"
     ]
    }
   ],
   "source": [
    "sentence_tokens = [sent for sent in doc.sents]\n",
    "print(sentence_tokens)"
   ]
  },
  {
   "cell_type": "code",
   "execution_count": 66,
   "metadata": {},
   "outputs": [],
   "source": [
    "sentence_scores = {}\n",
    "for sent in sentence_tokens:\n",
    "    for word in sent:\n",
    "        if word.text.lower() in word_frequencies.keys():\n",
    "            if sent not in sentence_scores.keys():\n",
    "                sentence_scores[sent] = word_frequencies[word.text.lower()]\n",
    "            else:\n",
    "                sentence_scores[sent]+=word_frequencies[word.text.lower()]"
   ]
  },
  {
   "cell_type": "code",
   "execution_count": 67,
   "metadata": {},
   "outputs": [],
   "source": [
    "from heapq import nlargest"
   ]
  },
  {
   "cell_type": "code",
   "execution_count": 68,
   "metadata": {},
   "outputs": [
    {
     "data": {
      "text/plain": [
       "2"
      ]
     },
     "execution_count": 68,
     "metadata": {},
     "output_type": "execute_result"
    }
   ],
   "source": [
    "select_length = int(len(sentence_tokens)*0.3)\n",
    "select_length"
   ]
  },
  {
   "cell_type": "code",
   "execution_count": 69,
   "metadata": {},
   "outputs": [],
   "source": [
    "summary = nlargest(select_length, sentence_scores, key = sentence_scores.get )"
   ]
  },
  {
   "cell_type": "code",
   "execution_count": 70,
   "metadata": {},
   "outputs": [
    {
     "data": {
      "text/plain": [
       "[A performance element is responsible for making improvements in the tutor, using perceptions of tutor/student interactions, and knowledge about the student's reaction to decide how to modify the tutor to perform better in the future.,\n",
       "  Machine learning (ML) refers to a system's ability to acquire, and integrate knowledge through large-scale observations, and to improve, and extend itself by learning new knowledge rather than by being programmed with that knowledge.]"
      ]
     },
     "execution_count": 70,
     "metadata": {},
     "output_type": "execute_result"
    }
   ],
   "source": [
    "summary"
   ]
  }
 ],
 "metadata": {
  "kernelspec": {
   "display_name": "Python 3.9.0 64-bit",
   "language": "python",
   "name": "python3"
  },
  "language_info": {
   "codemirror_mode": {
    "name": "ipython",
    "version": 3
   },
   "file_extension": ".py",
   "mimetype": "text/x-python",
   "name": "python",
   "nbconvert_exporter": "python",
   "pygments_lexer": "ipython3",
   "version": "3.9.0"
  },
  "orig_nbformat": 4,
  "vscode": {
   "interpreter": {
    "hash": "82ed002fa2d4956f5c6aec99bcefe0f73a9f79882f3c9e2319b14958a5896ac5"
   }
  }
 },
 "nbformat": 4,
 "nbformat_minor": 2
}
